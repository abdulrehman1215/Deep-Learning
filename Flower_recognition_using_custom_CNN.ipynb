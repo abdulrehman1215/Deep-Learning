{
  "nbformat": 4,
  "nbformat_minor": 0,
  "metadata": {
    "colab": {
      "provenance": [],
      "authorship_tag": "ABX9TyN5W1zCXuM+SKe0HWpjA0ns",
      "include_colab_link": true
    },
    "kernelspec": {
      "name": "python3",
      "display_name": "Python 3"
    },
    "language_info": {
      "name": "python"
    },
    "accelerator": "GPU",
    "gpuClass": "standard"
  },
  "cells": [
    {
      "cell_type": "markdown",
      "metadata": {
        "id": "view-in-github",
        "colab_type": "text"
      },
      "source": [
        "<a href=\"https://colab.research.google.com/github/abdulrehman1215/Deep-Learning/blob/main/Flower_recognition_using_custom_CNN.ipynb\" target=\"_parent\"><img src=\"https://colab.research.google.com/assets/colab-badge.svg\" alt=\"Open In Colab\"/></a>"
      ]
    },
    {
      "cell_type": "markdown",
      "source": [
        "This colab file is created to solve multiclass classification problem of [Flowers Recognition Dataset](https://www.kaggle.com/datasets/alxmamaev/flowers-recognition) taken from kaggle.\n",
        "\n",
        "- Please download your account API from kaggle and upload it to this colaboratory file before running this file"
      ],
      "metadata": {
        "id": "JBii6kZQHwNC"
      }
    },
    {
      "cell_type": "code",
      "source": [
        "! pip install split-folders"
      ],
      "metadata": {
        "colab": {
          "base_uri": "https://localhost:8080/"
        },
        "id": "Zo17f-ZcV6mY",
        "outputId": "2eef05d3-c0d5-4dbd-ee6b-b9153086eabb"
      },
      "execution_count": 1,
      "outputs": [
        {
          "output_type": "stream",
          "name": "stdout",
          "text": [
            "Looking in indexes: https://pypi.org/simple, https://us-python.pkg.dev/colab-wheels/public/simple/\n",
            "Collecting split-folders\n",
            "  Downloading split_folders-0.5.1-py3-none-any.whl (8.4 kB)\n",
            "Installing collected packages: split-folders\n",
            "Successfully installed split-folders-0.5.1\n"
          ]
        }
      ]
    },
    {
      "cell_type": "code",
      "source": [
        "!mkdir -p ~/.kaggle\n",
        "!cp kaggle.json ~/.kaggle/"
      ],
      "metadata": {
        "id": "4OPTajMNAfVt"
      },
      "execution_count": 2,
      "outputs": []
    },
    {
      "cell_type": "code",
      "source": [
        "!kaggle datasets download -d alxmamaev/flowers-recognition"
      ],
      "metadata": {
        "colab": {
          "base_uri": "https://localhost:8080/"
        },
        "id": "Uh-_UccGHQrN",
        "outputId": "a15ea7fd-cca0-448f-f52a-2480d2798ea5"
      },
      "execution_count": 3,
      "outputs": [
        {
          "output_type": "stream",
          "name": "stdout",
          "text": [
            "Warning: Your Kaggle API key is readable by other users on this system! To fix this, you can run 'chmod 600 /root/.kaggle/kaggle.json'\n",
            "Downloading flowers-recognition.zip to /content\n",
            "100% 224M/225M [00:10<00:00, 23.5MB/s]\n",
            "100% 225M/225M [00:10<00:00, 21.4MB/s]\n"
          ]
        }
      ]
    },
    {
      "cell_type": "code",
      "source": [
        "import zipfile\n",
        "zip_ref = zipfile.ZipFile('/content/flowers-recognition.zip', 'r')\n",
        "zip_ref.extractall('/content')\n",
        "zip_ref.close()"
      ],
      "metadata": {
        "id": "A-B_D59GHzql"
      },
      "execution_count": 4,
      "outputs": []
    },
    {
      "cell_type": "code",
      "source": [
        "import splitfolders\n",
        "\n",
        "input_folder = \"/content/flowers\" #Enter Input Folder\n",
        "output = \"/content/Flowers\" #Enter Output Folder\n",
        "\n",
        "splitfolders.ratio(input_folder, output=output, seed=42, ratio=(0.7,0.2,0.1))"
      ],
      "metadata": {
        "colab": {
          "base_uri": "https://localhost:8080/"
        },
        "id": "DsmJGj16WHBB",
        "outputId": "5201ec27-575f-4816-dbf8-558f499e440d"
      },
      "execution_count": 5,
      "outputs": [
        {
          "output_type": "stream",
          "name": "stderr",
          "text": [
            "Copying files: 4317 files [00:00, 4909.02 files/s]\n"
          ]
        }
      ]
    },
    {
      "cell_type": "code",
      "source": [
        "import tensorflow as tf\n",
        "from tensorflow import keras\n",
        "from keras import Sequential\n",
        "from keras.layers import Dense,Conv2D,MaxPooling2D,Flatten,BatchNormalization,Dropout\n",
        "from keras.preprocessing.image import ImageDataGenerator"
      ],
      "metadata": {
        "id": "9ONMOfgtZSGJ"
      },
      "execution_count": 6,
      "outputs": []
    },
    {
      "cell_type": "code",
      "source": [
        "# generators\n",
        "train = keras.utils.image_dataset_from_directory(\n",
        "    directory = '/content/Flowers/train',\n",
        "    labels='inferred',\n",
        "    label_mode = 'categorical',\n",
        "    batch_size=32,\n",
        "    image_size=(256,256)\n",
        ")\n",
        "\n",
        "test = keras.utils.image_dataset_from_directory(\n",
        "    directory = '/content/Flowers/test',\n",
        "    labels='inferred',\n",
        "    label_mode = 'categorical',\n",
        "    batch_size=32,\n",
        "    image_size=(256,256)\n",
        ")\n",
        "\n",
        "val = keras.utils.image_dataset_from_directory(\n",
        "    directory = '/content/Flowers/val',\n",
        "    labels='inferred',\n",
        "    label_mode = 'categorical',\n",
        "    batch_size=32,\n",
        "    image_size=(256,256)\n",
        ")"
      ],
      "metadata": {
        "colab": {
          "base_uri": "https://localhost:8080/"
        },
        "id": "pXNvcspQbkPK",
        "outputId": "f3a25604-7812-427e-b172-f5673f2dfe57"
      },
      "execution_count": 7,
      "outputs": [
        {
          "output_type": "stream",
          "name": "stdout",
          "text": [
            "Found 3019 files belonging to 5 classes.\n",
            "Found 438 files belonging to 5 classes.\n",
            "Found 860 files belonging to 5 classes.\n"
          ]
        }
      ]
    },
    {
      "cell_type": "code",
      "source": [
        "# Normalize\n",
        "def process(image,label):\n",
        "    image = tf.cast(image/255. ,tf.float32)\n",
        "    return image,label\n",
        "\n",
        "train = train.map(process)\n",
        "val = val.map(process)\n",
        "test = test.map(process)"
      ],
      "metadata": {
        "id": "2n-7iZTVcNX7"
      },
      "execution_count": 8,
      "outputs": []
    },
    {
      "cell_type": "code",
      "source": [
        "# create CNN model\n",
        "\n",
        "model = Sequential([\n",
        "\n",
        "  Conv2D(32,kernel_size=(3,3),padding='valid',activation='relu',input_shape=(256,256,3)),\n",
        "  BatchNormalization(),\n",
        "  MaxPooling2D(pool_size=(2,2),strides=2,padding='valid'),\n",
        "\n",
        "  Conv2D(64,kernel_size=(3,3),padding='valid',activation='relu'),\n",
        "  BatchNormalization(),\n",
        "  MaxPooling2D(pool_size=(2,2),strides=2,padding='valid'),\n",
        "\n",
        "  Conv2D(128,kernel_size=(3,3),padding='valid',activation='relu'),\n",
        "  BatchNormalization(),\n",
        "  MaxPooling2D(pool_size=(2,2),strides=2,padding='valid'),\n",
        "\n",
        "  Conv2D(128,kernel_size=(5,5),padding='valid',activation='relu'),\n",
        "  BatchNormalization(),\n",
        "  MaxPooling2D(pool_size=(4,4),strides=2,padding='valid'),\n",
        "\n",
        "  Conv2D(64,kernel_size=(7,7),padding='valid',activation='relu'),\n",
        "  BatchNormalization(),\n",
        "  MaxPooling2D(pool_size=(4,4),strides=2,padding='valid'),\n",
        "\n",
        "  Flatten(),\n",
        "\n",
        "  Dense(128,activation='relu'),\n",
        "  Dropout(0.2),\n",
        "  Dense(64,activation='relu'),\n",
        "  Dropout(0.3),\n",
        "  Dense(units = 5,activation='softmax')\n",
        "])"
      ],
      "metadata": {
        "id": "tefR0hpGceHO"
      },
      "execution_count": 9,
      "outputs": []
    },
    {
      "cell_type": "code",
      "source": [
        "model.summary()"
      ],
      "metadata": {
        "colab": {
          "base_uri": "https://localhost:8080/"
        },
        "id": "Jij_ryQPde6s",
        "outputId": "2cb685d4-a4b9-4cd4-f9fa-19c593b46f53"
      },
      "execution_count": 10,
      "outputs": [
        {
          "output_type": "stream",
          "name": "stdout",
          "text": [
            "Model: \"sequential\"\n",
            "_________________________________________________________________\n",
            " Layer (type)                Output Shape              Param #   \n",
            "=================================================================\n",
            " conv2d (Conv2D)             (None, 254, 254, 32)      896       \n",
            "                                                                 \n",
            " batch_normalization (BatchN  (None, 254, 254, 32)     128       \n",
            " ormalization)                                                   \n",
            "                                                                 \n",
            " max_pooling2d (MaxPooling2D  (None, 127, 127, 32)     0         \n",
            " )                                                               \n",
            "                                                                 \n",
            " conv2d_1 (Conv2D)           (None, 125, 125, 64)      18496     \n",
            "                                                                 \n",
            " batch_normalization_1 (Batc  (None, 125, 125, 64)     256       \n",
            " hNormalization)                                                 \n",
            "                                                                 \n",
            " max_pooling2d_1 (MaxPooling  (None, 62, 62, 64)       0         \n",
            " 2D)                                                             \n",
            "                                                                 \n",
            " conv2d_2 (Conv2D)           (None, 60, 60, 128)       73856     \n",
            "                                                                 \n",
            " batch_normalization_2 (Batc  (None, 60, 60, 128)      512       \n",
            " hNormalization)                                                 \n",
            "                                                                 \n",
            " max_pooling2d_2 (MaxPooling  (None, 30, 30, 128)      0         \n",
            " 2D)                                                             \n",
            "                                                                 \n",
            " conv2d_3 (Conv2D)           (None, 26, 26, 128)       409728    \n",
            "                                                                 \n",
            " batch_normalization_3 (Batc  (None, 26, 26, 128)      512       \n",
            " hNormalization)                                                 \n",
            "                                                                 \n",
            " max_pooling2d_3 (MaxPooling  (None, 12, 12, 128)      0         \n",
            " 2D)                                                             \n",
            "                                                                 \n",
            " conv2d_4 (Conv2D)           (None, 6, 6, 64)          401472    \n",
            "                                                                 \n",
            " batch_normalization_4 (Batc  (None, 6, 6, 64)         256       \n",
            " hNormalization)                                                 \n",
            "                                                                 \n",
            " max_pooling2d_4 (MaxPooling  (None, 2, 2, 64)         0         \n",
            " 2D)                                                             \n",
            "                                                                 \n",
            " flatten (Flatten)           (None, 256)               0         \n",
            "                                                                 \n",
            " dense (Dense)               (None, 128)               32896     \n",
            "                                                                 \n",
            " dropout (Dropout)           (None, 128)               0         \n",
            "                                                                 \n",
            " dense_1 (Dense)             (None, 64)                8256      \n",
            "                                                                 \n",
            " dropout_1 (Dropout)         (None, 64)                0         \n",
            "                                                                 \n",
            " dense_2 (Dense)             (None, 5)                 325       \n",
            "                                                                 \n",
            "=================================================================\n",
            "Total params: 947,589\n",
            "Trainable params: 946,757\n",
            "Non-trainable params: 832\n",
            "_________________________________________________________________\n"
          ]
        }
      ]
    },
    {
      "cell_type": "code",
      "source": [
        "model.compile(optimizer='adam',loss='categorical_crossentropy',metrics=['accuracy'])"
      ],
      "metadata": {
        "id": "Bo4KObh4dg4U"
      },
      "execution_count": 11,
      "outputs": []
    },
    {
      "cell_type": "code",
      "source": [
        "history = model.fit(train,epochs=30,validation_data=val, verbose=1)"
      ],
      "metadata": {
        "colab": {
          "base_uri": "https://localhost:8080/"
        },
        "id": "N1_4lXaNdseO",
        "outputId": "bb5c1ad3-0879-4002-a090-cb4e61ae308d"
      },
      "execution_count": 12,
      "outputs": [
        {
          "output_type": "stream",
          "name": "stdout",
          "text": [
            "Epoch 1/30\n",
            "95/95 [==============================] - 31s 130ms/step - loss: 1.3584 - accuracy: 0.4657 - val_loss: 1.6987 - val_accuracy: 0.2442\n",
            "Epoch 2/30\n",
            "95/95 [==============================] - 12s 118ms/step - loss: 1.1206 - accuracy: 0.5515 - val_loss: 1.9555 - val_accuracy: 0.2453\n",
            "Epoch 3/30\n",
            "95/95 [==============================] - 12s 118ms/step - loss: 0.9825 - accuracy: 0.6227 - val_loss: 1.7480 - val_accuracy: 0.3070\n",
            "Epoch 4/30\n",
            "95/95 [==============================] - 12s 120ms/step - loss: 0.9368 - accuracy: 0.6489 - val_loss: 1.3531 - val_accuracy: 0.4093\n",
            "Epoch 5/30\n",
            "95/95 [==============================] - 12s 118ms/step - loss: 0.8531 - accuracy: 0.6747 - val_loss: 1.1790 - val_accuracy: 0.5442\n",
            "Epoch 6/30\n",
            "95/95 [==============================] - 12s 117ms/step - loss: 0.8072 - accuracy: 0.6916 - val_loss: 0.9595 - val_accuracy: 0.6209\n",
            "Epoch 7/30\n",
            "95/95 [==============================] - 12s 118ms/step - loss: 0.7497 - accuracy: 0.7171 - val_loss: 0.8900 - val_accuracy: 0.6791\n",
            "Epoch 8/30\n",
            "95/95 [==============================] - 12s 121ms/step - loss: 0.6998 - accuracy: 0.7493 - val_loss: 1.0553 - val_accuracy: 0.6151\n",
            "Epoch 9/30\n",
            "95/95 [==============================] - 11s 116ms/step - loss: 0.6469 - accuracy: 0.7605 - val_loss: 0.9255 - val_accuracy: 0.6837\n",
            "Epoch 10/30\n",
            "95/95 [==============================] - 13s 128ms/step - loss: 0.5942 - accuracy: 0.7820 - val_loss: 0.8325 - val_accuracy: 0.6988\n",
            "Epoch 11/30\n",
            "95/95 [==============================] - 12s 127ms/step - loss: 0.5946 - accuracy: 0.7794 - val_loss: 0.7462 - val_accuracy: 0.7326\n",
            "Epoch 12/30\n",
            "95/95 [==============================] - 12s 126ms/step - loss: 0.5326 - accuracy: 0.8042 - val_loss: 0.7456 - val_accuracy: 0.7244\n",
            "Epoch 13/30\n",
            "95/95 [==============================] - 12s 128ms/step - loss: 0.4720 - accuracy: 0.8271 - val_loss: 0.7800 - val_accuracy: 0.7465\n",
            "Epoch 14/30\n",
            "95/95 [==============================] - 12s 118ms/step - loss: 0.4707 - accuracy: 0.8341 - val_loss: 0.9140 - val_accuracy: 0.7174\n",
            "Epoch 15/30\n",
            "95/95 [==============================] - 12s 119ms/step - loss: 0.4157 - accuracy: 0.8509 - val_loss: 0.7543 - val_accuracy: 0.7628\n",
            "Epoch 16/30\n",
            "95/95 [==============================] - 12s 118ms/step - loss: 0.3687 - accuracy: 0.8768 - val_loss: 0.8055 - val_accuracy: 0.7302\n",
            "Epoch 17/30\n",
            "95/95 [==============================] - 12s 126ms/step - loss: 0.3320 - accuracy: 0.8824 - val_loss: 0.7745 - val_accuracy: 0.7407\n",
            "Epoch 18/30\n",
            "95/95 [==============================] - 12s 119ms/step - loss: 0.2915 - accuracy: 0.8986 - val_loss: 0.9951 - val_accuracy: 0.7430\n",
            "Epoch 19/30\n",
            "95/95 [==============================] - 12s 121ms/step - loss: 0.3114 - accuracy: 0.8884 - val_loss: 0.8527 - val_accuracy: 0.7326\n",
            "Epoch 20/30\n",
            "95/95 [==============================] - 12s 119ms/step - loss: 0.3151 - accuracy: 0.8854 - val_loss: 0.9144 - val_accuracy: 0.7256\n",
            "Epoch 21/30\n",
            "95/95 [==============================] - 12s 119ms/step - loss: 0.2164 - accuracy: 0.9248 - val_loss: 0.9884 - val_accuracy: 0.7279\n",
            "Epoch 22/30\n",
            "95/95 [==============================] - 12s 118ms/step - loss: 0.1888 - accuracy: 0.9341 - val_loss: 0.9028 - val_accuracy: 0.7512\n",
            "Epoch 23/30\n",
            "95/95 [==============================] - 12s 127ms/step - loss: 0.1982 - accuracy: 0.9314 - val_loss: 0.9220 - val_accuracy: 0.7628\n",
            "Epoch 24/30\n",
            "95/95 [==============================] - 12s 117ms/step - loss: 0.1933 - accuracy: 0.9391 - val_loss: 0.9216 - val_accuracy: 0.7407\n",
            "Epoch 25/30\n",
            "95/95 [==============================] - 15s 149ms/step - loss: 0.1607 - accuracy: 0.9420 - val_loss: 0.9021 - val_accuracy: 0.7593\n",
            "Epoch 26/30\n",
            "95/95 [==============================] - 12s 118ms/step - loss: 0.1247 - accuracy: 0.9583 - val_loss: 0.9658 - val_accuracy: 0.7523\n",
            "Epoch 27/30\n",
            "95/95 [==============================] - 12s 122ms/step - loss: 0.1275 - accuracy: 0.9583 - val_loss: 1.2513 - val_accuracy: 0.7233\n",
            "Epoch 28/30\n",
            "95/95 [==============================] - 12s 118ms/step - loss: 0.0809 - accuracy: 0.9718 - val_loss: 0.9922 - val_accuracy: 0.7791\n",
            "Epoch 29/30\n",
            "95/95 [==============================] - 12s 117ms/step - loss: 0.0813 - accuracy: 0.9745 - val_loss: 1.3463 - val_accuracy: 0.7233\n",
            "Epoch 30/30\n",
            "95/95 [==============================] - 11s 116ms/step - loss: 0.1205 - accuracy: 0.9599 - val_loss: 1.0387 - val_accuracy: 0.7640\n"
          ]
        }
      ]
    },
    {
      "cell_type": "code",
      "source": [
        "# Evaluate the model on the test set\n",
        "test_loss, test_acc = model.evaluate(test, verbose=2)\n",
        "print('Test loss:', test_loss)\n",
        "print('Test accuracy:', test_acc)"
      ],
      "metadata": {
        "colab": {
          "base_uri": "https://localhost:8080/"
        },
        "id": "9iqT43L08xnP",
        "outputId": "3d71d12d-3c9f-45d4-ca9c-0680421d6445"
      },
      "execution_count": 13,
      "outputs": [
        {
          "output_type": "stream",
          "name": "stdout",
          "text": [
            "14/14 - 1s - loss: 0.9471 - accuracy: 0.7831 - 1s/epoch - 94ms/step\n",
            "Test loss: 0.9470702409744263\n",
            "Test accuracy: 0.7831050157546997\n"
          ]
        }
      ]
    },
    {
      "cell_type": "code",
      "source": [
        "import matplotlib.pyplot as plt\n",
        "\n",
        "plt.plot(history.history['accuracy'],color='red',label='train')\n",
        "plt.plot(history.history['val_accuracy'],color='blue',label='validation')\n",
        "plt.legend()\n",
        "plt.show()"
      ],
      "metadata": {
        "colab": {
          "base_uri": "https://localhost:8080/",
          "height": 266
        },
        "id": "WFjCuwf3VSjl",
        "outputId": "5544e438-01a5-4576-aeda-b3faa2828639"
      },
      "execution_count": 14,
      "outputs": [
        {
          "output_type": "display_data",
          "data": {
            "text/plain": [
              "<Figure size 432x288 with 1 Axes>"
            ],
            "image/png": "[encoded data removed]"
          },
          "metadata": {
            "needs_background": "light"
          }
        }
      ]
    },
    {
      "cell_type": "code",
      "source": [
        "plt.plot(history.history['loss'],color='red',label='train')\n",
        "plt.plot(history.history['val_loss'],color='blue',label='validation')\n",
        "plt.legend()\n",
        "plt.show()"
      ],
      "metadata": {
        "colab": {
          "base_uri": "https://localhost:8080/",
          "height": 265
        },
        "id": "sBLs3E5IV8s-",
        "outputId": "bb2dc62e-9cba-4b0a-be78-e6a12692f5c5"
      },
      "execution_count": 15,
      "outputs": [
        {
          "output_type": "display_data",
          "data": {
            "text/plain": [
              "<Figure size 432x288 with 1 Axes>"
            ],
            "image/png": "[encoded data removed]"
          },
          "metadata": {
            "needs_background": "light"
          }
        }
      ]
    }
  ]
}